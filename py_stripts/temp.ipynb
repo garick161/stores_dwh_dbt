{
 "cells": [
  {
   "cell_type": "code",
   "execution_count": 1,
   "metadata": {},
   "outputs": [],
   "source": [
    "import pandas as pd\n",
    "import yaml\n",
    "from sqlalchemy import create_engine"
   ]
  },
  {
   "cell_type": "code",
   "execution_count": 132,
   "metadata": {},
   "outputs": [],
   "source": [
    "LOAD_DATE = '2021-01-02'"
   ]
  },
  {
   "cell_type": "code",
   "execution_count": 101,
   "metadata": {},
   "outputs": [],
   "source": [
    "tables = ['bills_item', 'bills_head', 'traffic', 'coupons', 'promos']\n",
    "dfs = {}\n",
    "\n",
    "connection_string = f'postgresql+psycopg2://{TARGET_DB_USER}:{TARGET_DB_PASSWORD}@{TARGET_DB_HOST}:{TARGET_DB_PORT}/{TARGET_DB_NAME}'\n",
    "engine = create_engine(connection_string)"
   ]
  },
  {
   "cell_type": "code",
   "execution_count": 119,
   "metadata": {},
   "outputs": [
    {
     "data": {
      "text/html": [
       "<div>\n",
       "<style scoped>\n",
       "    .dataframe tbody tr th:only-of-type {\n",
       "        vertical-align: middle;\n",
       "    }\n",
       "\n",
       "    .dataframe tbody tr th {\n",
       "        vertical-align: top;\n",
       "    }\n",
       "\n",
       "    .dataframe thead th {\n",
       "        text-align: right;\n",
       "    }\n",
       "</style>\n",
       "<table border=\"1\" class=\"dataframe\">\n",
       "  <thead>\n",
       "    <tr style=\"text-align: right;\">\n",
       "      <th></th>\n",
       "      <th>plant</th>\n",
       "      <th>calday</th>\n",
       "      <th>time</th>\n",
       "      <th>frame_id</th>\n",
       "      <th>quantity</th>\n",
       "    </tr>\n",
       "  </thead>\n",
       "  <tbody>\n",
       "  </tbody>\n",
       "</table>\n",
       "</div>"
      ],
      "text/plain": [
       "Empty DataFrame\n",
       "Columns: [plant, calday, time, frame_id, quantity]\n",
       "Index: []"
      ]
     },
     "execution_count": 119,
     "metadata": {},
     "output_type": "execute_result"
    }
   ],
   "source": [
    "dfs['traffic']"
   ]
  },
  {
   "cell_type": "code",
   "execution_count": 133,
   "metadata": {},
   "outputs": [],
   "source": [
    "for table_name in tables:\n",
    "    if table_name == 'traffic':\n",
    "        dfs[table_name] = pd.read_csv(f'../datasets/{table_name}.csv', parse_dates=['calday'], date_format='%d.%m.%Y')\n",
    "        dfs[table_name] = dfs[table_name][dfs[table_name]['calday'] == LOAD_DATE]\n",
    "    elif table_name == 'promos':\n",
    "        dfs[table_name] = pd.read_csv(f'../datasets/{table_name}.csv')\n",
    "        actual_promos_coupons = dfs[table_name].groupby('promo_id', as_index=False).first()\n",
    "        actual_promos_idx = dfs[table_name].merge(actual_promos_coupons, on='promo_id', how='left').dropna().index\n",
    "        dfs[table_name] =  dfs[table_name].iloc[actual_promos_idx]\n",
    "    else:\n",
    "        dfs[table_name] = pd.read_csv(f'../datasets/{table_name}.csv', parse_dates=['calday'])\n",
    "        dfs[table_name] = dfs[table_name][dfs[table_name]['calday'] == LOAD_DATE]\n",
    "\n",
    "    dfs[table_name].to_sql(name=table_name, schema='store_sales', con=engine, if_exists='append', index=False)"
   ]
  },
  {
   "cell_type": "code",
   "execution_count": 6,
   "metadata": {},
   "outputs": [],
   "source": [
    "for table in ['stores', 'promo_types']:\n",
    "    df = pd.read_csv(f'../datasets/{table}.csv')\n",
    "    df.to_sql(name=table, schema='store_sales', con=engine, if_exists='replace', index=False)"
   ]
  },
  {
   "cell_type": "code",
   "execution_count": null,
   "metadata": {},
   "outputs": [],
   "source": [
    "dfs[table_name].to_sql(name=table_name, schema='store_sales', con=engine, if_exists='append', index=False)"
   ]
  },
  {
   "cell_type": "code",
   "execution_count": 128,
   "metadata": {},
   "outputs": [],
   "source": [
    "bills_item = pd.read_csv('../datasets/bills_item.csv', parse_dates=['calday'])\n",
    "bills_head = pd.read_csv('../datasets/bills_head.csv', parse_dates=['calday'])\n",
    "coupons = pd.read_csv('../datasets/coupons.csv', parse_dates=['calday'])\n",
    "traffic = pd.read_csv('../datasets/traffic.csv', parse_dates=['calday'], date_format='%d.%m.%Y')\n",
    "promos = pd.read_csv('../datasets/promos.csv')"
   ]
  },
  {
   "cell_type": "code",
   "execution_count": 129,
   "metadata": {},
   "outputs": [
    {
     "data": {
      "text/html": [
       "<div>\n",
       "<style scoped>\n",
       "    .dataframe tbody tr th:only-of-type {\n",
       "        vertical-align: middle;\n",
       "    }\n",
       "\n",
       "    .dataframe tbody tr th {\n",
       "        vertical-align: top;\n",
       "    }\n",
       "\n",
       "    .dataframe thead th {\n",
       "        text-align: right;\n",
       "    }\n",
       "</style>\n",
       "<table border=\"1\" class=\"dataframe\">\n",
       "  <thead>\n",
       "    <tr style=\"text-align: right;\">\n",
       "      <th></th>\n",
       "      <th>plant</th>\n",
       "      <th>calday</th>\n",
       "      <th>time</th>\n",
       "      <th>frame_id</th>\n",
       "      <th>quantity</th>\n",
       "    </tr>\n",
       "  </thead>\n",
       "  <tbody>\n",
       "    <tr>\n",
       "      <th>0</th>\n",
       "      <td>M001</td>\n",
       "      <td>2021-01-01</td>\n",
       "      <td>80000</td>\n",
       "      <td>1245776664</td>\n",
       "      <td>2</td>\n",
       "    </tr>\n",
       "    <tr>\n",
       "      <th>1</th>\n",
       "      <td>M001</td>\n",
       "      <td>2021-01-01</td>\n",
       "      <td>90000</td>\n",
       "      <td>1245776667</td>\n",
       "      <td>2</td>\n",
       "    </tr>\n",
       "    <tr>\n",
       "      <th>2</th>\n",
       "      <td>M001</td>\n",
       "      <td>2021-01-01</td>\n",
       "      <td>100000</td>\n",
       "      <td>1245776670</td>\n",
       "      <td>1</td>\n",
       "    </tr>\n",
       "    <tr>\n",
       "      <th>3</th>\n",
       "      <td>M001</td>\n",
       "      <td>2021-01-01</td>\n",
       "      <td>110000</td>\n",
       "      <td>1245776673</td>\n",
       "      <td>0</td>\n",
       "    </tr>\n",
       "    <tr>\n",
       "      <th>4</th>\n",
       "      <td>M001</td>\n",
       "      <td>2021-01-01</td>\n",
       "      <td>120000</td>\n",
       "      <td>1245776676</td>\n",
       "      <td>0</td>\n",
       "    </tr>\n",
       "  </tbody>\n",
       "</table>\n",
       "</div>"
      ],
      "text/plain": [
       "  plant     calday    time    frame_id  quantity\n",
       "0  M001 2021-01-01   80000  1245776664         2\n",
       "1  M001 2021-01-01   90000  1245776667         2\n",
       "2  M001 2021-01-01  100000  1245776670         1\n",
       "3  M001 2021-01-01  110000  1245776673         0\n",
       "4  M001 2021-01-01  120000  1245776676         0"
      ]
     },
     "execution_count": 129,
     "metadata": {},
     "output_type": "execute_result"
    }
   ],
   "source": [
    "traffic.head()"
   ]
  },
  {
   "cell_type": "code",
   "execution_count": 113,
   "metadata": {},
   "outputs": [
    {
     "data": {
      "text/html": [
       "<div>\n",
       "<style scoped>\n",
       "    .dataframe tbody tr th:only-of-type {\n",
       "        vertical-align: middle;\n",
       "    }\n",
       "\n",
       "    .dataframe tbody tr th {\n",
       "        vertical-align: top;\n",
       "    }\n",
       "\n",
       "    .dataframe thead th {\n",
       "        text-align: right;\n",
       "    }\n",
       "</style>\n",
       "<table border=\"1\" class=\"dataframe\">\n",
       "  <thead>\n",
       "    <tr style=\"text-align: right;\">\n",
       "      <th></th>\n",
       "      <th>plant</th>\n",
       "      <th>calday</th>\n",
       "      <th>time</th>\n",
       "      <th>frame_id</th>\n",
       "      <th>quantity</th>\n",
       "    </tr>\n",
       "  </thead>\n",
       "  <tbody>\n",
       "    <tr>\n",
       "      <th>32</th>\n",
       "      <td>M001</td>\n",
       "      <td>2021-01-03</td>\n",
       "      <td>80000</td>\n",
       "      <td>1245776704</td>\n",
       "      <td>1</td>\n",
       "    </tr>\n",
       "    <tr>\n",
       "      <th>33</th>\n",
       "      <td>M001</td>\n",
       "      <td>2021-01-03</td>\n",
       "      <td>90000</td>\n",
       "      <td>1245776707</td>\n",
       "      <td>1</td>\n",
       "    </tr>\n",
       "    <tr>\n",
       "      <th>34</th>\n",
       "      <td>M001</td>\n",
       "      <td>2021-01-03</td>\n",
       "      <td>100000</td>\n",
       "      <td>1245776693</td>\n",
       "      <td>0</td>\n",
       "    </tr>\n",
       "    <tr>\n",
       "      <th>35</th>\n",
       "      <td>M001</td>\n",
       "      <td>2021-01-03</td>\n",
       "      <td>110000</td>\n",
       "      <td>1245776696</td>\n",
       "      <td>0</td>\n",
       "    </tr>\n",
       "    <tr>\n",
       "      <th>36</th>\n",
       "      <td>M001</td>\n",
       "      <td>2021-01-03</td>\n",
       "      <td>120000</td>\n",
       "      <td>1245776699</td>\n",
       "      <td>2</td>\n",
       "    </tr>\n",
       "    <tr>\n",
       "      <th>...</th>\n",
       "      <td>...</td>\n",
       "      <td>...</td>\n",
       "      <td>...</td>\n",
       "      <td>...</td>\n",
       "      <td>...</td>\n",
       "    </tr>\n",
       "    <tr>\n",
       "      <th>13259</th>\n",
       "      <td>M015</td>\n",
       "      <td>2021-01-03</td>\n",
       "      <td>190000</td>\n",
       "      <td>1245776691</td>\n",
       "      <td>2</td>\n",
       "    </tr>\n",
       "    <tr>\n",
       "      <th>13260</th>\n",
       "      <td>M015</td>\n",
       "      <td>2021-01-03</td>\n",
       "      <td>200000</td>\n",
       "      <td>1245776694</td>\n",
       "      <td>1</td>\n",
       "    </tr>\n",
       "    <tr>\n",
       "      <th>13261</th>\n",
       "      <td>M015</td>\n",
       "      <td>2021-01-03</td>\n",
       "      <td>210000</td>\n",
       "      <td>1245776697</td>\n",
       "      <td>2</td>\n",
       "    </tr>\n",
       "    <tr>\n",
       "      <th>13262</th>\n",
       "      <td>M015</td>\n",
       "      <td>2021-01-03</td>\n",
       "      <td>220000</td>\n",
       "      <td>1245776700</td>\n",
       "      <td>2</td>\n",
       "    </tr>\n",
       "    <tr>\n",
       "      <th>13263</th>\n",
       "      <td>M015</td>\n",
       "      <td>2021-01-03</td>\n",
       "      <td>230000</td>\n",
       "      <td>1245776693</td>\n",
       "      <td>1</td>\n",
       "    </tr>\n",
       "  </tbody>\n",
       "</table>\n",
       "<p>240 rows × 5 columns</p>\n",
       "</div>"
      ],
      "text/plain": [
       "      plant     calday    time    frame_id  quantity\n",
       "32     M001 2021-01-03   80000  1245776704         1\n",
       "33     M001 2021-01-03   90000  1245776707         1\n",
       "34     M001 2021-01-03  100000  1245776693         0\n",
       "35     M001 2021-01-03  110000  1245776696         0\n",
       "36     M001 2021-01-03  120000  1245776699         2\n",
       "...     ...        ...     ...         ...       ...\n",
       "13259  M015 2021-01-03  190000  1245776691         2\n",
       "13260  M015 2021-01-03  200000  1245776694         1\n",
       "13261  M015 2021-01-03  210000  1245776697         2\n",
       "13262  M015 2021-01-03  220000  1245776700         2\n",
       "13263  M015 2021-01-03  230000  1245776693         1\n",
       "\n",
       "[240 rows x 5 columns]"
      ]
     },
     "execution_count": 113,
     "metadata": {},
     "output_type": "execute_result"
    }
   ],
   "source": [
    "traffic[traffic['calday'] == '2021-01-03']"
   ]
  },
  {
   "cell_type": "code",
   "execution_count": 87,
   "metadata": {},
   "outputs": [],
   "source": [
    "bills_item = bills_item[bills_item['calday'] == LOAD_DATE]\n",
    "bills_head =bills_head [bills_head['calday'] == LOAD_DATE]\n",
    "coupons = coupons[coupons['calday'] == LOAD_DATE]\n",
    "traffic = traffic[traffic['calday'] == LOAD_DATE]"
   ]
  },
  {
   "cell_type": "code",
   "execution_count": 93,
   "metadata": {},
   "outputs": [],
   "source": [
    "actual_promos_coupons = coupons.groupby('promo_id', as_index=False).first()\n",
    "actual_promos_idx = promos.merge(actual_promos_coupons, on='promo_id', how='left').dropna().index\n",
    "promos = promos.iloc[actual_promos_idx]"
   ]
  },
  {
   "cell_type": "code",
   "execution_count": 80,
   "metadata": {},
   "outputs": [],
   "source": [
    "tables = ['bills_item', 'bills_head', 'traffic', 'coupons', 'promos']"
   ]
  },
  {
   "cell_type": "code",
   "execution_count": 2,
   "metadata": {},
   "outputs": [],
   "source": [
    "# Подключения для удаленной базы данных\n",
    "with open(\"../.config.yml\", \"r\") as file:\n",
    "    config = yaml.safe_load(file)\n",
    "\n",
    "# Получение параметров подключения к базе данных\n",
    "TARGET_DB_HOST = config[\"remote_target_db\"][\"host\"]\n",
    "TARGET_DB_PORT = config[\"remote_target_db\"][\"port\"]\n",
    "TARGET_DB_USER = config[\"remote_target_db\"][\"user\"]\n",
    "TARGET_DB_PASSWORD = config[\"remote_target_db\"][\"password\"]\n",
    "TARGET_DB_NAME = config[\"remote_target_db\"][\"dbname\"]"
   ]
  },
  {
   "cell_type": "code",
   "execution_count": 3,
   "metadata": {},
   "outputs": [],
   "source": [
    "connection_string = f'postgresql+psycopg2://{TARGET_DB_USER}:{TARGET_DB_PASSWORD}@{TARGET_DB_HOST}:{TARGET_DB_PORT}/{TARGET_DB_NAME}'\n",
    "engine = create_engine(connection_string)"
   ]
  },
  {
   "cell_type": "code",
   "execution_count": 4,
   "metadata": {},
   "outputs": [],
   "source": [
    "for table in ['stores', 'promo_types']:\n",
    "    df = pd.read_csv(f'../datasets/{table}.csv')\n",
    "    df.to_sql(name=table, schema='store_sales', con=engine, if_exists='replace', index=False)"
   ]
  },
  {
   "cell_type": "code",
   "execution_count": null,
   "metadata": {},
   "outputs": [],
   "source": []
  },
  {
   "cell_type": "code",
   "execution_count": null,
   "metadata": {},
   "outputs": [],
   "source": []
  },
  {
   "cell_type": "code",
   "execution_count": 2,
   "metadata": {},
   "outputs": [],
   "source": [
    "with open(\"../.config.yml\", \"r\") as file:\n",
    "    config = yaml.safe_load(file)\n",
    "\n",
    "# Получение параметров подключения к базе данных\n",
    "TARGET_DB_HOST = config[\"target_db\"][\"host\"]\n",
    "TARGET_DB_PORT = config[\"target_db\"][\"port\"]\n",
    "TARGET_DB_USER = config[\"target_db\"][\"user\"]\n",
    "TARGET_DB_PASSWORD = config[\"target_db\"][\"password\"]\n",
    "TARGET_DB_NAME = config[\"target_db\"][\"dbname\"]"
   ]
  },
  {
   "cell_type": "code",
   "execution_count": 5,
   "metadata": {},
   "outputs": [],
   "source": [
    "connection_string = f'postgresql+psycopg2://{TARGET_DB_USER}:{TARGET_DB_PASSWORD}@{TARGET_DB_HOST}:{TARGET_DB_PORT}/{TARGET_DB_NAME}'\n",
    "engine = create_engine(connection_string)"
   ]
  },
  {
   "cell_type": "code",
   "execution_count": null,
   "metadata": {},
   "outputs": [],
   "source": [
    "for table in tables:\n",
    "    stores.to_sql(name='stores', schema='store_sales', con=engine, if_exists='append', index=False)\n"
   ]
  },
  {
   "cell_type": "code",
   "execution_count": null,
   "metadata": {},
   "outputs": [],
   "source": [
    "bills_head.to_csv()"
   ]
  },
  {
   "cell_type": "code",
   "execution_count": null,
   "metadata": {},
   "outputs": [],
   "source": []
  },
  {
   "cell_type": "code",
   "execution_count": 20,
   "metadata": {},
   "outputs": [],
   "source": [
    "with open(\"../config.yml\", \"r\") as file:\n",
    "    config = yaml.safe_load(file)\n",
    "\n",
    "# Получение параметров подключения к базе данных\n",
    "TARGET_DB_HOST = config[\"target_db\"][\"host\"]\n",
    "TARGET_DB_PORT = config[\"target_db\"][\"port\"]\n",
    "TARGET_DB_USER = config[\"target_db\"][\"user\"]\n",
    "TARGET_DB_PASSWORD = config[\"target_db\"][\"password\"]\n",
    "TARGET_DB_NAME = config[\"target_db\"][\"dbname\"]"
   ]
  },
  {
   "cell_type": "code",
   "execution_count": 22,
   "metadata": {},
   "outputs": [],
   "source": [
    "connection_string = f'postgresql+psycopg2://{TARGET_DB_USER}:{TARGET_DB_PASSWORD}@{TARGET_DB_HOST}:{TARGET_DB_PORT}/{TARGET_DB_NAME}'"
   ]
  },
  {
   "cell_type": "code",
   "execution_count": 23,
   "metadata": {},
   "outputs": [],
   "source": [
    "engine = create_engine(connection_string)"
   ]
  },
  {
   "cell_type": "code",
   "execution_count": 28,
   "metadata": {},
   "outputs": [],
   "source": [
    "schema_name = 'store_sales'\n",
    "table_name = 'stores'"
   ]
  },
  {
   "cell_type": "code",
   "execution_count": 29,
   "metadata": {},
   "outputs": [
    {
     "data": {
      "text/plain": [
       "'store_sales.stores'"
      ]
     },
     "execution_count": 29,
     "metadata": {},
     "output_type": "execute_result"
    }
   ],
   "source": [
    "f'{schema_name}.{table_name}'"
   ]
  },
  {
   "cell_type": "code",
   "execution_count": 31,
   "metadata": {},
   "outputs": [
    {
     "data": {
      "text/plain": [
       "15"
      ]
     },
     "execution_count": 31,
     "metadata": {},
     "output_type": "execute_result"
    }
   ],
   "source": [
    "stores.to_sql(name='stores', schema='store_sales', con=engine, if_exists='replace', index=False)"
   ]
  },
  {
   "cell_type": "code",
   "execution_count": 32,
   "metadata": {},
   "outputs": [
    {
     "data": {
      "text/plain": [
       "2"
      ]
     },
     "execution_count": 32,
     "metadata": {},
     "output_type": "execute_result"
    }
   ],
   "source": [
    "promo_types.to_sql(name='promo_types', schema='store_sales', con=engine, if_exists='replace', index=False)"
   ]
  },
  {
   "cell_type": "code",
   "execution_count": null,
   "metadata": {},
   "outputs": [],
   "source": [
    "stores.to_sql()"
   ]
  }
 ],
 "metadata": {
  "kernelspec": {
   "display_name": "venv",
   "language": "python",
   "name": "python3"
  },
  "language_info": {
   "codemirror_mode": {
    "name": "ipython",
    "version": 3
   },
   "file_extension": ".py",
   "mimetype": "text/x-python",
   "name": "python",
   "nbconvert_exporter": "python",
   "pygments_lexer": "ipython3",
   "version": "3.9.10"
  }
 },
 "nbformat": 4,
 "nbformat_minor": 2
}
